{
 "cells": [
  {
   "cell_type": "code",
   "execution_count": 1,
   "id": "713e762a",
   "metadata": {},
   "outputs": [
    {
     "name": "stdout",
     "output_type": "stream",
     "text": [
      "Requirement already satisfied: speechRecognition in c:\\users\\preet\\appdata\\local\\programs\\python\\python311\\lib\\site-packages (3.10.0)Note: you may need to restart the kernel to use updated packages.\n",
      "\n",
      "Requirement already satisfied: requests>=2.26.0 in c:\\users\\preet\\appdata\\local\\programs\\python\\python311\\lib\\site-packages (from speechRecognition) (2.28.2)\n",
      "Requirement already satisfied: charset-normalizer<4,>=2 in c:\\users\\preet\\appdata\\local\\programs\\python\\python311\\lib\\site-packages (from requests>=2.26.0->speechRecognition) (3.1.0)\n",
      "Requirement already satisfied: idna<4,>=2.5 in c:\\users\\preet\\appdata\\local\\programs\\python\\python311\\lib\\site-packages (from requests>=2.26.0->speechRecognition) (3.4)\n",
      "Requirement already satisfied: urllib3<1.27,>=1.21.1 in c:\\users\\preet\\appdata\\local\\programs\\python\\python311\\lib\\site-packages (from requests>=2.26.0->speechRecognition) (1.26.15)\n",
      "Requirement already satisfied: certifi>=2017.4.17 in c:\\users\\preet\\appdata\\local\\programs\\python\\python311\\lib\\site-packages (from requests>=2.26.0->speechRecognition) (2022.12.7)\n"
     ]
    }
   ],
   "source": [
    "pip install speechRecognition"
   ]
  },
  {
   "cell_type": "code",
   "execution_count": 2,
   "id": "80df089f",
   "metadata": {},
   "outputs": [
    {
     "name": "stdout",
     "output_type": "stream",
     "text": [
      "Requirement already satisfied: pyttsx3 in c:\\users\\preet\\appdata\\local\\programs\\python\\python311\\lib\\site-packages (2.90)Note: you may need to restart the kernel to use updated packages.\n",
      "\n",
      "Requirement already satisfied: comtypes in c:\\users\\preet\\appdata\\local\\programs\\python\\python311\\lib\\site-packages (from pyttsx3) (1.1.14)\n",
      "Requirement already satisfied: pypiwin32 in c:\\users\\preet\\appdata\\local\\programs\\python\\python311\\lib\\site-packages (from pyttsx3) (223)\n",
      "Requirement already satisfied: pywin32 in c:\\users\\preet\\appdata\\local\\programs\\python\\python311\\lib\\site-packages (from pyttsx3) (305)\n"
     ]
    }
   ],
   "source": [
    "pip install pyttsx3"
   ]
  },
  {
   "cell_type": "code",
   "execution_count": 3,
   "id": "5fbcdc1f",
   "metadata": {},
   "outputs": [
    {
     "name": "stdout",
     "output_type": "stream",
     "text": [
      "Requirement already satisfied: pyaudio in c:\\users\\preet\\appdata\\local\\programs\\python\\python311\\lib\\site-packages (0.2.13)Note: you may need to restart the kernel to use updated packages.\n",
      "\n"
     ]
    }
   ],
   "source": [
    "pip install pyaudio"
   ]
  },
  {
   "cell_type": "code",
   "execution_count": 8,
   "id": "e8fc2dc0",
   "metadata": {
    "scrolled": true
   },
   "outputs": [],
   "source": [
    "import speech_recognition\n",
    "import pyttsx3\n",
    "import pyaudio"
   ]
  },
  {
   "cell_type": "code",
   "execution_count": 9,
   "id": "b09243a1",
   "metadata": {},
   "outputs": [],
   "source": [
    "def speak(command):\n",
    "    voice = pyttsx3.init()\n",
    "    voice.say(command)\n",
    "    voice.runAndWait()"
   ]
  },
  {
   "cell_type": "code",
   "execution_count": 10,
   "id": "bb47beee",
   "metadata": {
    "scrolled": true
   },
   "outputs": [
    {
     "name": "stdout",
     "output_type": "stream",
     "text": [
      "Silence please\n",
      "Speak now please....\n"
     ]
    },
    {
     "ename": "UnknownValueError",
     "evalue": "",
     "output_type": "error",
     "traceback": [
      "\u001b[1;31m---------------------------------------------------------------------------\u001b[0m",
      "\u001b[1;31mUnknownValueError\u001b[0m                         Traceback (most recent call last)",
      "Cell \u001b[1;32mIn[10], line 13\u001b[0m\n\u001b[0;32m      9\u001b[0m \u001b[38;5;28mprint\u001b[39m(\u001b[38;5;124m\"\u001b[39m\u001b[38;5;124mSpeak now please....\u001b[39m\u001b[38;5;124m\"\u001b[39m)\n\u001b[0;32m     11\u001b[0m audio2 \u001b[38;5;241m=\u001b[39m sr\u001b[38;5;241m.\u001b[39mlisten(source2)\n\u001b[1;32m---> 13\u001b[0m textt \u001b[38;5;241m=\u001b[39m \u001b[43msr\u001b[49m\u001b[38;5;241;43m.\u001b[39;49m\u001b[43mrecognize_google\u001b[49m\u001b[43m(\u001b[49m\u001b[43maudio2\u001b[49m\u001b[43m)\u001b[49m\n\u001b[0;32m     14\u001b[0m textt \u001b[38;5;241m=\u001b[39m textt\u001b[38;5;241m.\u001b[39mlower()\n\u001b[0;32m     16\u001b[0m \u001b[38;5;28mprint\u001b[39m(\u001b[38;5;124m\"\u001b[39m\u001b[38;5;124mDid you say :- \u001b[39m\u001b[38;5;124m\"\u001b[39m\u001b[38;5;241m+\u001b[39mtextt)\n",
      "File \u001b[1;32m~\\AppData\\Local\\Programs\\Python\\Python311\\Lib\\site-packages\\speech_recognition\\__init__.py:728\u001b[0m, in \u001b[0;36mRecognizer.recognize_google\u001b[1;34m(self, audio_data, key, language, pfilter, show_all, with_confidence)\u001b[0m\n\u001b[0;32m    725\u001b[0m \u001b[38;5;28;01mif\u001b[39;00m show_all:\n\u001b[0;32m    726\u001b[0m     \u001b[38;5;28;01mreturn\u001b[39;00m actual_result\n\u001b[1;32m--> 728\u001b[0m \u001b[38;5;28;01mif\u001b[39;00m \u001b[38;5;129;01mnot\u001b[39;00m \u001b[38;5;28misinstance\u001b[39m(actual_result, \u001b[38;5;28mdict\u001b[39m) \u001b[38;5;129;01mor\u001b[39;00m \u001b[38;5;28mlen\u001b[39m(actual_result\u001b[38;5;241m.\u001b[39mget(\u001b[38;5;124m\"\u001b[39m\u001b[38;5;124malternative\u001b[39m\u001b[38;5;124m\"\u001b[39m, [])) \u001b[38;5;241m==\u001b[39m \u001b[38;5;241m0\u001b[39m: \u001b[38;5;28;01mraise\u001b[39;00m UnknownValueError()\n\u001b[0;32m    730\u001b[0m \u001b[38;5;28;01mif\u001b[39;00m \u001b[38;5;124m\"\u001b[39m\u001b[38;5;124mconfidence\u001b[39m\u001b[38;5;124m\"\u001b[39m \u001b[38;5;129;01min\u001b[39;00m actual_result[\u001b[38;5;124m\"\u001b[39m\u001b[38;5;124malternative\u001b[39m\u001b[38;5;124m\"\u001b[39m]:\n\u001b[0;32m    731\u001b[0m     \u001b[38;5;66;03m# return alternative with highest confidence score\u001b[39;00m\n\u001b[0;32m    732\u001b[0m     best_hypothesis \u001b[38;5;241m=\u001b[39m \u001b[38;5;28mmax\u001b[39m(actual_result[\u001b[38;5;124m\"\u001b[39m\u001b[38;5;124malternative\u001b[39m\u001b[38;5;124m\"\u001b[39m], key\u001b[38;5;241m=\u001b[39m\u001b[38;5;28;01mlambda\u001b[39;00m alternative: alternative[\u001b[38;5;124m\"\u001b[39m\u001b[38;5;124mconfidence\u001b[39m\u001b[38;5;124m\"\u001b[39m])\n",
      "\u001b[1;31mUnknownValueError\u001b[0m: "
     ]
    }
   ],
   "source": [
    "sr = speech_recognition.Recognizer()\n",
    "\n",
    "with speech_recognition.Microphone() as source2:\n",
    "    \n",
    "    print(\"Silence please\")\n",
    "    \n",
    "    sr.adjust_for_ambient_noise(source2, duration = 2)\n",
    "    \n",
    "    print(\"Speak now please....\")\n",
    "    \n",
    "    audio2 = sr.listen(source2)\n",
    "    \n",
    "    textt = sr.recognize_google(audio2)\n",
    "    textt = textt.lower()\n",
    "    \n",
    "    print(\"Did you say :- \"+textt)\n",
    "    \n",
    "    speak(textt)"
   ]
  },
  {
   "cell_type": "code",
   "execution_count": null,
   "id": "dd2e7da3",
   "metadata": {},
   "outputs": [],
   "source": []
  },
  {
   "cell_type": "code",
   "execution_count": null,
   "id": "679ab4e7",
   "metadata": {},
   "outputs": [],
   "source": []
  }
 ],
 "metadata": {
  "kernelspec": {
   "display_name": "Python 3 (ipykernel)",
   "language": "python",
   "name": "python3"
  },
  "language_info": {
   "codemirror_mode": {
    "name": "ipython",
    "version": 3
   },
   "file_extension": ".py",
   "mimetype": "text/x-python",
   "name": "python",
   "nbconvert_exporter": "python",
   "pygments_lexer": "ipython3",
   "version": "3.11.1"
  }
 },
 "nbformat": 4,
 "nbformat_minor": 5
}
